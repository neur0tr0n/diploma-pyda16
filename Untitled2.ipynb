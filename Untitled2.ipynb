{
 "cells": [
  {
   "cell_type": "code",
   "execution_count": 8,
   "metadata": {},
   "outputs": [
    {
     "name": "stdout",
     "output_type": "stream",
     "text": [
      "b'MTIzNDU2Nzg='\n",
      "b'12345678'\n"
     ]
    }
   ],
   "source": [
    "import base64\n",
    "\n",
    "passwd = '12345678'\n",
    "\n",
    "asccii_pwd = passwd.encode('ascii')\n",
    "encoded_pass = base64.b64encode(asccii_pwd)\n",
    "print(encoded_pass)\n",
    "\n",
    "\n",
    "decoded_pass = base64.b64decode(b'MTIzNDU2Nzg=')\n",
    "print(decoded_pass)"
   ]
  },
  {
   "cell_type": "code",
   "execution_count": null,
   "metadata": {},
   "outputs": [],
   "source": [
    "import keyring\n"
   ]
  }
 ],
 "metadata": {
  "kernelspec": {
   "display_name": "Python 3",
   "language": "python",
   "name": "python3"
  },
  "language_info": {
   "codemirror_mode": {
    "name": "ipython",
    "version": 3
   },
   "file_extension": ".py",
   "mimetype": "text/x-python",
   "name": "python",
   "nbconvert_exporter": "python",
   "pygments_lexer": "ipython3",
   "version": "3.8.5"
  }
 },
 "nbformat": 4,
 "nbformat_minor": 4
}
