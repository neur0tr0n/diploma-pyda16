{
 "cells": [
  {
   "cell_type": "code",
   "execution_count": 95,
   "metadata": {},
   "outputs": [
    {
     "name": "stdout",
     "output_type": "stream",
     "text": [
      "    month  credit_remain  monthly_payment_base  monthly_payment_rate  \\\n",
      "0       1   4.822596e+06          58103.571429          23996.775000   \n",
      "0       2   4.764493e+06          58103.571429          23711.099107   \n",
      "0       3   4.706389e+06          58103.571429          23425.423214   \n",
      "0       4   4.648286e+06          58103.571429          23139.747321   \n",
      "0       5   4.590182e+06          58103.571429          22854.071429   \n",
      "..    ...            ...                   ...                   ...   \n",
      "0      80   2.324143e+05          58103.571429           1428.379464   \n",
      "0      81   1.743107e+05          58103.571429           1142.703571   \n",
      "0      82   1.162071e+05          58103.571429            857.027679   \n",
      "0      83   5.810357e+04          58103.571429            571.351786   \n",
      "0      84  -1.178705e-09          58103.571429            285.675893   \n",
      "\n",
      "    monthly_payment_sum  \n",
      "0          82100.346429  \n",
      "0          81814.670536  \n",
      "0          81528.994643  \n",
      "0          81243.318750  \n",
      "0          80957.642857  \n",
      "..                  ...  \n",
      "0          59531.950893  \n",
      "0          59246.275000  \n",
      "0          58960.599107  \n",
      "0          58674.923214  \n",
      "0          58389.247321  \n",
      "\n",
      "[84 rows x 5 columns]\n",
      "Сумма выплат: 5900562.9375\n",
      "Переплата: 1019862.9375\n",
      "Эффективная процентная ставка: 22.663620833333333\n",
      "Средний ежемесяный платеж: 70244.79687499999\n"
     ]
    },
    {
     "data": {
      "image/png": "[encoded data removed]",
      "text/plain": [
       "<Figure size 432x288 with 1 Axes>"
      ]
     },
     "metadata": {
      "needs_background": "light"
     },
     "output_type": "display_data"
    }
   ],
   "source": [
    "import pandas as pd\n",
    "import matplotlib.pyplot as plt\n",
    "\n",
    "credit = 4500000\n",
    "ensurence_rate = 8.46\n",
    "ensurence = credit / 100 * ensurence_rate\n",
    "credit_full = credit + ensurence\n",
    "term = 84\n",
    "rate = 5.9\n",
    "row = {}\n",
    "df = pd.DataFrame()\n",
    "\n",
    "monthly_payment_base = credit_full / term\n",
    "credit_remain = credit_full\n",
    "for i in range(term):\n",
    "    credit_remain -=  monthly_payment_base\n",
    "    monthly_payment_rate = (credit_full - monthly_payment_base * i) * (rate * (term - i) / 12 / 100)  / (term - i)\n",
    "    row = {'month': i + 1, 'credit_remain': credit_remain, 'monthly_payment_base': monthly_payment_base, 'monthly_payment_rate': monthly_payment_rate}\n",
    "    df = pd.concat([df, pd.DataFrame([row])])\n",
    "\n",
    "df['monthly_payment_sum'] = df['monthly_payment_base'] + df['monthly_payment_rate']\n",
    "print(df)\n",
    "monthly_payment_sum = df['monthly_payment_sum'].sum()\n",
    "print(f'Сумма выплат: {monthly_payment_sum}')\n",
    "overpayment = df['monthly_payment_sum'].sum() - credit_full\n",
    "print(f'Переплата: {overpayment}')\n",
    "effective_rate = (df['monthly_payment_sum'].sum() - credit_full) / credit * 100\n",
    "print(f'Эффективная процентная ставка: {effective_rate}')\n",
    "monthly_payment_mean = df['monthly_payment_sum'].mean()\n",
    "print(f'Средний ежемесяный платеж: {monthly_payment_mean}') \n",
    "\n",
    "plt.plot(df['month'], df['credit_remain'])\n",
    "plt.plot(df['month'], df['monthly_payment_sum'])\n",
    "plt.show()"
   ]
  },
  {
   "cell_type": "code",
   "execution_count": null,
   "metadata": {},
   "outputs": [],
   "source": []
  }
 ],
 "metadata": {
  "kernelspec": {
   "display_name": "Python 3",
   "language": "python",
   "name": "python3"
  },
  "language_info": {
   "codemirror_mode": {
    "name": "ipython",
    "version": 3
   },
   "file_extension": ".py",
   "mimetype": "text/x-python",
   "name": "python",
   "nbconvert_exporter": "python",
   "pygments_lexer": "ipython3",
   "version": "3.8.5"
  }
 },
 "nbformat": 4,
 "nbformat_minor": 4
}
