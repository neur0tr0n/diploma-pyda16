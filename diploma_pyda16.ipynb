{
 "cells": [
  {
   "cell_type": "markdown",
   "metadata": {},
   "source": [
    "<div class=\"alert alert-info\">\n",
    "ДИПЛОМНАЯ РАБОТА\n",
    "</div>"
   ]
  },
  {
   "cell_type": "code",
   "execution_count": 2,
   "metadata": {},
   "outputs": [],
   "source": [
    "import pandas as pd\n",
    "import matplotlib.pyplot as plt\n",
    "import scipy.stats as stats\n",
    "from sklearn.model_selection import train_test_split\n",
    "from sklearn.discriminant_analysis import LinearDiscriminantAnalysis\n",
    "from sklearn.metrics import accuracy_score\n",
    "\n",
    "data_file = 'HR.csv'"
   ]
  },
  {
   "cell_type": "markdown",
   "metadata": {},
   "source": [
    "<div class=\"alert alert-info\">\n",
    "1. Загрузите файл HR.csv в pandas dataframe\n",
    "</div>"
   ]
  },
  {
   "cell_type": "code",
   "execution_count": 3,
   "metadata": {},
   "outputs": [
    {
     "name": "stdout",
     "output_type": "stream",
     "text": [
      "   satisfaction_level  last_evaluation  number_project  average_montly_hours  \\\n",
      "0                0.38             0.53               2                   157   \n",
      "1                0.80             0.86               5                   262   \n",
      "2                0.11             0.88               7                   272   \n",
      "3                0.72             0.87               5                   223   \n",
      "4                0.37             0.52               2                   159   \n",
      "5                0.41             0.50               2                   153   \n",
      "6                0.10             0.77               6                   247   \n",
      "7                0.92             0.85               5                   259   \n",
      "8                0.89             1.00               5                   224   \n",
      "9                0.42             0.53               2                   142   \n",
      "\n",
      "   time_spend_company  Work_accident  left  promotion_last_5years department  \\\n",
      "0                   3              0     1                      0      sales   \n",
      "1                   6              0     1                      0      sales   \n",
      "2                   4              0     1                      0      sales   \n",
      "3                   5              0     1                      0      sales   \n",
      "4                   3              0     1                      0      sales   \n",
      "5                   3              0     1                      0      sales   \n",
      "6                   4              0     1                      0      sales   \n",
      "7                   5              0     1                      0      sales   \n",
      "8                   5              0     1                      0      sales   \n",
      "9                   3              0     1                      0      sales   \n",
      "\n",
      "   salary  \n",
      "0     low  \n",
      "1  medium  \n",
      "2  medium  \n",
      "3     low  \n",
      "4     low  \n",
      "5     low  \n",
      "6     low  \n",
      "7     low  \n",
      "8     low  \n",
      "9     low  \n"
     ]
    }
   ],
   "source": [
    "df = pd.read_csv(data_file)\n",
    "print(df.head(10))"
   ]
  },
  {
   "cell_type": "markdown",
   "metadata": {},
   "source": [
    "<div class=\"alert alert-info\">\n",
    "2. Рассчитайте основные статистики для переменных(среднее,медиана,мода,мин/макс,сред.отклонение).\n",
    "</div>"
   ]
  },
  {
   "cell_type": "code",
   "execution_count": 4,
   "metadata": {},
   "outputs": [
    {
     "name": "stdout",
     "output_type": "stream",
     "text": [
      "       satisfaction_level  last_evaluation  number_project  \\\n",
      "count        14999.000000     14999.000000    14999.000000   \n",
      "mean             0.612834         0.716102        3.803054   \n",
      "std              0.248631         0.171169        1.232592   \n",
      "min              0.090000         0.360000        2.000000   \n",
      "25%              0.440000         0.560000        3.000000   \n",
      "50%              0.640000         0.720000        4.000000   \n",
      "75%              0.820000         0.870000        5.000000   \n",
      "max              1.000000         1.000000        7.000000   \n",
      "\n",
      "       average_montly_hours  time_spend_company  Work_accident          left  \\\n",
      "count          14999.000000        14999.000000   14999.000000  14999.000000   \n",
      "mean             201.050337            3.498233       0.144610      0.238083   \n",
      "std               49.943099            1.460136       0.351719      0.425924   \n",
      "min               96.000000            2.000000       0.000000      0.000000   \n",
      "25%              156.000000            3.000000       0.000000      0.000000   \n",
      "50%              200.000000            3.000000       0.000000      0.000000   \n",
      "75%              245.000000            4.000000       0.000000      0.000000   \n",
      "max              310.000000           10.000000       1.000000      1.000000   \n",
      "\n",
      "       promotion_last_5years  \n",
      "count           14999.000000  \n",
      "mean                0.021268  \n",
      "std                 0.144281  \n",
      "min                 0.000000  \n",
      "25%                 0.000000  \n",
      "50%                 0.000000  \n",
      "75%                 0.000000  \n",
      "max                 1.000000  \n"
     ]
    }
   ],
   "source": [
    "print(df.describe())"
   ]
  },
  {
   "cell_type": "markdown",
   "metadata": {},
   "source": [
    "<div class=\"alert alert-info\">\n",
    "3. Рассчитайте и визуализировать корреляционную матрицу для количественных переменных.\n",
    "Определите две самые скоррелированные и две наименее скоррелированные переменные.\n",
    "</div>"
   ]
  },
  {
   "cell_type": "code",
   "execution_count": 5,
   "metadata": {},
   "outputs": [
    {
     "data": {
      "text/html": [
       "<div>\n",
       "<style scoped>\n",
       "    .dataframe tbody tr th:only-of-type {\n",
       "        vertical-align: middle;\n",
       "    }\n",
       "\n",
       "    .dataframe tbody tr th {\n",
       "        vertical-align: top;\n",
       "    }\n",
       "\n",
       "    .dataframe thead th {\n",
       "        text-align: right;\n",
       "    }\n",
       "</style>\n",
       "<table border=\"1\" class=\"dataframe\">\n",
       "  <thead>\n",
       "    <tr style=\"text-align: right;\">\n",
       "      <th></th>\n",
       "      <th>satisfaction_level</th>\n",
       "      <th>last_evaluation</th>\n",
       "      <th>number_project</th>\n",
       "      <th>average_montly_hours</th>\n",
       "      <th>time_spend_company</th>\n",
       "      <th>Work_accident</th>\n",
       "      <th>left</th>\n",
       "      <th>promotion_last_5years</th>\n",
       "    </tr>\n",
       "  </thead>\n",
       "  <tbody>\n",
       "    <tr>\n",
       "      <th>satisfaction_level</th>\n",
       "      <td>1.000000</td>\n",
       "      <td>0.105021</td>\n",
       "      <td>-0.142970</td>\n",
       "      <td>-0.020048</td>\n",
       "      <td>-0.100866</td>\n",
       "      <td>0.058697</td>\n",
       "      <td>-0.388375</td>\n",
       "      <td>0.025605</td>\n",
       "    </tr>\n",
       "    <tr>\n",
       "      <th>last_evaluation</th>\n",
       "      <td>0.105021</td>\n",
       "      <td>1.000000</td>\n",
       "      <td>0.349333</td>\n",
       "      <td>0.339742</td>\n",
       "      <td>0.131591</td>\n",
       "      <td>-0.007104</td>\n",
       "      <td>0.006567</td>\n",
       "      <td>-0.008684</td>\n",
       "    </tr>\n",
       "    <tr>\n",
       "      <th>number_project</th>\n",
       "      <td>-0.142970</td>\n",
       "      <td>0.349333</td>\n",
       "      <td>1.000000</td>\n",
       "      <td>0.417211</td>\n",
       "      <td>0.196786</td>\n",
       "      <td>-0.004741</td>\n",
       "      <td>0.023787</td>\n",
       "      <td>-0.006064</td>\n",
       "    </tr>\n",
       "    <tr>\n",
       "      <th>average_montly_hours</th>\n",
       "      <td>-0.020048</td>\n",
       "      <td>0.339742</td>\n",
       "      <td>0.417211</td>\n",
       "      <td>1.000000</td>\n",
       "      <td>0.127755</td>\n",
       "      <td>-0.010143</td>\n",
       "      <td>0.071287</td>\n",
       "      <td>-0.003544</td>\n",
       "    </tr>\n",
       "    <tr>\n",
       "      <th>time_spend_company</th>\n",
       "      <td>-0.100866</td>\n",
       "      <td>0.131591</td>\n",
       "      <td>0.196786</td>\n",
       "      <td>0.127755</td>\n",
       "      <td>1.000000</td>\n",
       "      <td>0.002120</td>\n",
       "      <td>0.144822</td>\n",
       "      <td>0.067433</td>\n",
       "    </tr>\n",
       "    <tr>\n",
       "      <th>Work_accident</th>\n",
       "      <td>0.058697</td>\n",
       "      <td>-0.007104</td>\n",
       "      <td>-0.004741</td>\n",
       "      <td>-0.010143</td>\n",
       "      <td>0.002120</td>\n",
       "      <td>1.000000</td>\n",
       "      <td>-0.154622</td>\n",
       "      <td>0.039245</td>\n",
       "    </tr>\n",
       "    <tr>\n",
       "      <th>left</th>\n",
       "      <td>-0.388375</td>\n",
       "      <td>0.006567</td>\n",
       "      <td>0.023787</td>\n",
       "      <td>0.071287</td>\n",
       "      <td>0.144822</td>\n",
       "      <td>-0.154622</td>\n",
       "      <td>1.000000</td>\n",
       "      <td>-0.061788</td>\n",
       "    </tr>\n",
       "    <tr>\n",
       "      <th>promotion_last_5years</th>\n",
       "      <td>0.025605</td>\n",
       "      <td>-0.008684</td>\n",
       "      <td>-0.006064</td>\n",
       "      <td>-0.003544</td>\n",
       "      <td>0.067433</td>\n",
       "      <td>0.039245</td>\n",
       "      <td>-0.061788</td>\n",
       "      <td>1.000000</td>\n",
       "    </tr>\n",
       "  </tbody>\n",
       "</table>\n",
       "</div>"
      ],
      "text/plain": [
       "                       satisfaction_level  last_evaluation  number_project  \\\n",
       "satisfaction_level               1.000000         0.105021       -0.142970   \n",
       "last_evaluation                  0.105021         1.000000        0.349333   \n",
       "number_project                  -0.142970         0.349333        1.000000   \n",
       "average_montly_hours            -0.020048         0.339742        0.417211   \n",
       "time_spend_company              -0.100866         0.131591        0.196786   \n",
       "Work_accident                    0.058697        -0.007104       -0.004741   \n",
       "left                            -0.388375         0.006567        0.023787   \n",
       "promotion_last_5years            0.025605        -0.008684       -0.006064   \n",
       "\n",
       "                       average_montly_hours  time_spend_company  \\\n",
       "satisfaction_level                -0.020048           -0.100866   \n",
       "last_evaluation                    0.339742            0.131591   \n",
       "number_project                     0.417211            0.196786   \n",
       "average_montly_hours               1.000000            0.127755   \n",
       "time_spend_company                 0.127755            1.000000   \n",
       "Work_accident                     -0.010143            0.002120   \n",
       "left                               0.071287            0.144822   \n",
       "promotion_last_5years             -0.003544            0.067433   \n",
       "\n",
       "                       Work_accident      left  promotion_last_5years  \n",
       "satisfaction_level          0.058697 -0.388375               0.025605  \n",
       "last_evaluation            -0.007104  0.006567              -0.008684  \n",
       "number_project             -0.004741  0.023787              -0.006064  \n",
       "average_montly_hours       -0.010143  0.071287              -0.003544  \n",
       "time_spend_company          0.002120  0.144822               0.067433  \n",
       "Work_accident               1.000000 -0.154622               0.039245  \n",
       "left                       -0.154622  1.000000              -0.061788  \n",
       "promotion_last_5years       0.039245 -0.061788               1.000000  "
      ]
     },
     "execution_count": 5,
     "metadata": {},
     "output_type": "execute_result"
    }
   ],
   "source": [
    "df.corr()"
   ]
  },
  {
   "cell_type": "markdown",
   "metadata": {},
   "source": [
    "<div class=\"alert alert-info\">\n",
    "Наиболее скорреклированными параметрами являются average_montly_hours и number_project. Коэффициент корреляции равен 0.417211. \n",
    "То есть корреляция явно указывает на взаимосвязь среднего количества часов на рабочем месте в месяц и числа проектов, \n",
    "выполненных за время работы.\n",
    "Еще одна пара наиболее скорреллированных параметров является satisfaction_level и left. Коэффициент корреляции равен -0.388375. \n",
    "При этом нужно обратить внимание что корреляция является обратной, о чем говорит знак у значения коэффициента корреляции. \n",
    "Это вполне обяснимо, признак уволившегося сотрудника обратно пропорционален уровню удовлетворенности работой. \n",
    "\n",
    "Тем не менее невысокие значения коэффициента корреляции говорит о том, что либо параметры слабо зависимы друг от друга, либо между ними есть нелинейная зависимость. \n",
    "    \n",
    "Наименее скоррелированными являются пары Work_accident и time_spend_company (0.002120), а также promotion_last_5years и average_montly_hours (-0.003544).\n",
    "</div>"
   ]
  },
  {
   "cell_type": "markdown",
   "metadata": {},
   "source": [
    "<div class=\"alert alert-info\">\n",
    "4. Рассчитайте сколько сотрудников работает в каждом департаменте.\n",
    "</div>"
   ]
  },
  {
   "cell_type": "code",
   "execution_count": 6,
   "metadata": {},
   "outputs": [
    {
     "name": "stdout",
     "output_type": "stream",
     "text": [
      "             satisfaction_level\n",
      "department                     \n",
      "IT                         1227\n",
      "RandD                       787\n",
      "accounting                  767\n",
      "hr                          739\n",
      "management                  630\n",
      "marketing                   858\n",
      "product_mng                 902\n",
      "sales                      4140\n",
      "support                    2229\n",
      "technical                  2720\n"
     ]
    }
   ],
   "source": [
    "d = df[['department', 'satisfaction_level']].groupby('department').count()\n",
    "print(d)"
   ]
  },
  {
   "cell_type": "markdown",
   "metadata": {},
   "source": [
    "<div class=\"alert alert-info\">\n",
    "5. Показать распределение сотрудников по зарплатам.\n",
    "</div>"
   ]
  },
  {
   "cell_type": "code",
   "execution_count": 7,
   "metadata": {},
   "outputs": [
    {
     "data": {
      "image/png": "[encoded data removed]",
      "text/plain": [
       "<Figure size 432x288 with 1 Axes>"
      ]
     },
     "metadata": {
      "needs_background": "light"
     },
     "output_type": "display_data"
    }
   ],
   "source": [
    "plt.hist(df['salary'])\n",
    "plt.xlabel('salary')\n",
    "plt.ylabel('eployees number')\n",
    "plt.show()"
   ]
  },
  {
   "cell_type": "markdown",
   "metadata": {},
   "source": [
    "<div class=\"alert alert-info\">\n",
    "6. Показать распределение сотрудников по зарплатам в каждом департаменте по отдельности\n",
    "</div>"
   ]
  },
  {
   "cell_type": "code",
   "execution_count": 8,
   "metadata": {},
   "outputs": [
    {
     "data": {
      "text/html": [
       "<div>\n",
       "<style scoped>\n",
       "    .dataframe tbody tr th:only-of-type {\n",
       "        vertical-align: middle;\n",
       "    }\n",
       "\n",
       "    .dataframe tbody tr th {\n",
       "        vertical-align: top;\n",
       "    }\n",
       "\n",
       "    .dataframe thead th {\n",
       "        text-align: right;\n",
       "    }\n",
       "</style>\n",
       "<table border=\"1\" class=\"dataframe\">\n",
       "  <thead>\n",
       "    <tr style=\"text-align: right;\">\n",
       "      <th></th>\n",
       "      <th></th>\n",
       "      <th>satisfaction_level</th>\n",
       "    </tr>\n",
       "    <tr>\n",
       "      <th>department</th>\n",
       "      <th>salary</th>\n",
       "      <th></th>\n",
       "    </tr>\n",
       "  </thead>\n",
       "  <tbody>\n",
       "    <tr>\n",
       "      <th rowspan=\"3\" valign=\"top\">IT</th>\n",
       "      <th>high</th>\n",
       "      <td>83</td>\n",
       "    </tr>\n",
       "    <tr>\n",
       "      <th>low</th>\n",
       "      <td>609</td>\n",
       "    </tr>\n",
       "    <tr>\n",
       "      <th>medium</th>\n",
       "      <td>535</td>\n",
       "    </tr>\n",
       "    <tr>\n",
       "      <th rowspan=\"3\" valign=\"top\">RandD</th>\n",
       "      <th>high</th>\n",
       "      <td>51</td>\n",
       "    </tr>\n",
       "    <tr>\n",
       "      <th>low</th>\n",
       "      <td>364</td>\n",
       "    </tr>\n",
       "    <tr>\n",
       "      <th>medium</th>\n",
       "      <td>372</td>\n",
       "    </tr>\n",
       "    <tr>\n",
       "      <th rowspan=\"3\" valign=\"top\">accounting</th>\n",
       "      <th>high</th>\n",
       "      <td>74</td>\n",
       "    </tr>\n",
       "    <tr>\n",
       "      <th>low</th>\n",
       "      <td>358</td>\n",
       "    </tr>\n",
       "    <tr>\n",
       "      <th>medium</th>\n",
       "      <td>335</td>\n",
       "    </tr>\n",
       "    <tr>\n",
       "      <th rowspan=\"3\" valign=\"top\">hr</th>\n",
       "      <th>high</th>\n",
       "      <td>45</td>\n",
       "    </tr>\n",
       "    <tr>\n",
       "      <th>low</th>\n",
       "      <td>335</td>\n",
       "    </tr>\n",
       "    <tr>\n",
       "      <th>medium</th>\n",
       "      <td>359</td>\n",
       "    </tr>\n",
       "    <tr>\n",
       "      <th rowspan=\"3\" valign=\"top\">management</th>\n",
       "      <th>high</th>\n",
       "      <td>225</td>\n",
       "    </tr>\n",
       "    <tr>\n",
       "      <th>low</th>\n",
       "      <td>180</td>\n",
       "    </tr>\n",
       "    <tr>\n",
       "      <th>medium</th>\n",
       "      <td>225</td>\n",
       "    </tr>\n",
       "    <tr>\n",
       "      <th rowspan=\"3\" valign=\"top\">marketing</th>\n",
       "      <th>high</th>\n",
       "      <td>80</td>\n",
       "    </tr>\n",
       "    <tr>\n",
       "      <th>low</th>\n",
       "      <td>402</td>\n",
       "    </tr>\n",
       "    <tr>\n",
       "      <th>medium</th>\n",
       "      <td>376</td>\n",
       "    </tr>\n",
       "    <tr>\n",
       "      <th rowspan=\"3\" valign=\"top\">product_mng</th>\n",
       "      <th>high</th>\n",
       "      <td>68</td>\n",
       "    </tr>\n",
       "    <tr>\n",
       "      <th>low</th>\n",
       "      <td>451</td>\n",
       "    </tr>\n",
       "    <tr>\n",
       "      <th>medium</th>\n",
       "      <td>383</td>\n",
       "    </tr>\n",
       "    <tr>\n",
       "      <th rowspan=\"3\" valign=\"top\">sales</th>\n",
       "      <th>high</th>\n",
       "      <td>269</td>\n",
       "    </tr>\n",
       "    <tr>\n",
       "      <th>low</th>\n",
       "      <td>2099</td>\n",
       "    </tr>\n",
       "    <tr>\n",
       "      <th>medium</th>\n",
       "      <td>1772</td>\n",
       "    </tr>\n",
       "    <tr>\n",
       "      <th rowspan=\"3\" valign=\"top\">support</th>\n",
       "      <th>high</th>\n",
       "      <td>141</td>\n",
       "    </tr>\n",
       "    <tr>\n",
       "      <th>low</th>\n",
       "      <td>1146</td>\n",
       "    </tr>\n",
       "    <tr>\n",
       "      <th>medium</th>\n",
       "      <td>942</td>\n",
       "    </tr>\n",
       "    <tr>\n",
       "      <th rowspan=\"3\" valign=\"top\">technical</th>\n",
       "      <th>high</th>\n",
       "      <td>201</td>\n",
       "    </tr>\n",
       "    <tr>\n",
       "      <th>low</th>\n",
       "      <td>1372</td>\n",
       "    </tr>\n",
       "    <tr>\n",
       "      <th>medium</th>\n",
       "      <td>1147</td>\n",
       "    </tr>\n",
       "  </tbody>\n",
       "</table>\n",
       "</div>"
      ],
      "text/plain": [
       "                    satisfaction_level\n",
       "department  salary                    \n",
       "IT          high                    83\n",
       "            low                    609\n",
       "            medium                 535\n",
       "RandD       high                    51\n",
       "            low                    364\n",
       "            medium                 372\n",
       "accounting  high                    74\n",
       "            low                    358\n",
       "            medium                 335\n",
       "hr          high                    45\n",
       "            low                    335\n",
       "            medium                 359\n",
       "management  high                   225\n",
       "            low                    180\n",
       "            medium                 225\n",
       "marketing   high                    80\n",
       "            low                    402\n",
       "            medium                 376\n",
       "product_mng high                    68\n",
       "            low                    451\n",
       "            medium                 383\n",
       "sales       high                   269\n",
       "            low                   2099\n",
       "            medium                1772\n",
       "support     high                   141\n",
       "            low                   1146\n",
       "            medium                 942\n",
       "technical   high                   201\n",
       "            low                   1372\n",
       "            medium                1147"
      ]
     },
     "execution_count": 8,
     "metadata": {},
     "output_type": "execute_result"
    }
   ],
   "source": [
    "df[['department', 'salary', 'satisfaction_level']].groupby(['department', 'salary']).count()"
   ]
  },
  {
   "cell_type": "code",
   "execution_count": 9,
   "metadata": {},
   "outputs": [
    {
     "data": {
      "image/png": "[encoded data removed]",
      "text/plain": [
       "<Figure size 432x288 with 1 Axes>"
      ]
     },
     "metadata": {
      "needs_background": "light"
     },
     "output_type": "display_data"
    }
   ],
   "source": [
    "plt.hist(df[['department', 'salary', 'satisfaction_level']].groupby(['department', 'salary']).count(), histtype='barstacked', bins=50)\n",
    "plt.show()"
   ]
  },
  {
   "cell_type": "markdown",
   "metadata": {},
   "source": [
    "<div class=\"alert alert-info\">\n",
    "7. Проверить гипотезу, что сотрудники с высоким окладом проводят на работе больше времени, чем сотрудники с низким окладом\n",
    "</div>"
   ]
  },
  {
   "cell_type": "markdown",
   "metadata": {},
   "source": [
    "<div class=\"alert alert-info\">\n",
    "Выдвинем две гипотезы:\n",
    "    H0 - Сотрудники с высоким окладом проводят на работе столько же времени, что и сотрудники с низким окладом.\n",
    "    HA - Сотрудники с высоким окладом проводят на работе больше или меньше времени, чем сотрудники с низким окладом.\n",
    "Примем значение уровня значимости $\\alpha$ равным 0.05\n",
    "</div>"
   ]
  },
  {
   "cell_type": "code",
   "execution_count": 10,
   "metadata": {},
   "outputs": [
    {
     "data": {
      "image/png": "[encoded data removed]",
      "text/plain": [
       "<Figure size 432x288 with 1 Axes>"
      ]
     },
     "metadata": {
      "needs_background": "light"
     },
     "output_type": "display_data"
    }
   ],
   "source": [
    "amh_hs = pd.Series(dtype='int64')\n",
    "amh_ls = pd.Series(dtype='int64')\n",
    "amh_hs = df[['average_montly_hours', 'salary']].query('salary == \\'high\\'')['average_montly_hours']\n",
    "amh_ls = df[['average_montly_hours', 'salary']].query('salary == \\'low\\'')['average_montly_hours']\n",
    "\n",
    "# print(amh_hs.mean())\n",
    "# print(amh_ls.mean())\n",
    "plt.hist(amh_hs, alpha=0.5, color='green', bins=50)\n",
    "plt.hist(amh_ls, alpha=0.5, color='yellow', bins=50)\n",
    "plt.xlabel('average_monthly_hours')\n",
    "plt.legend(['high', 'low'])\n",
    "plt.show()"
   ]
  },
  {
   "cell_type": "code",
   "execution_count": 11,
   "metadata": {
    "scrolled": true
   },
   "outputs": [
    {
     "name": "stdout",
     "output_type": "stream",
     "text": [
      "p_value (0.4459045542257889) > alpha (0.05). Не отвергаем гипотезу H0.\n"
     ]
    }
   ],
   "source": [
    "alpha = 0.05 # уровень значимости\n",
    "statistic, p_value = stats.ttest_ind(amh_hs, amh_ls, equal_var=False) \n",
    "if p_value > alpha:\n",
    "    print(f'p_value ({p_value}) > alpha ({alpha}). Не отвергаем гипотезу H0.')\n",
    "else:\n",
    "    print(f'p_value ({p_value}) < alpha ({alpha}). Отвергаем гипотезу H0.')"
   ]
  },
  {
   "cell_type": "markdown",
   "metadata": {},
   "source": [
    "<div class=\"alert alert-info\">\n",
    "То есть, мы не можем подтвердить гипотезу о том, что сотрудники с высоким окладом проводят на работе больше времени, чем сотрудники с низким окладом\n",
    "</div>"
   ]
  },
  {
   "cell_type": "markdown",
   "metadata": {},
   "source": [
    "<div class=\"alert alert-info\">\n",
    "8. Рассчитать следующие показатели среди уволившихся и неуволившихся сотрудников (по отдельности):\n",
    "    ● Доля сотрудников с повышением за последние 5 лет\n",
    "    ● Средняя степень удовлетворенности\n",
    "    ● Среднее количество проектов\n",
    "</div>"
   ]
  },
  {
   "cell_type": "code",
   "execution_count": 14,
   "metadata": {},
   "outputs": [
    {
     "name": "stdout",
     "output_type": "stream",
     "text": [
      "Доля уволившихся сотрудников c повышением за последние 5 лет к общему числу сотрудников: 0.1266751116741116 %\n",
      "Средний уровень удовлетворенных среди уволившихся содрудников: 0.44009801176140917\n",
      "Среднее количество проектов среди уволившихся сотрудников: 3.8555026603192384\n",
      "Доля работающих сотрудников c повышением за последние 5 лет к общему числу сотрудников: 2.000133342222815 %\n",
      "Средний уровень удовлетворенных среди работающих содрудников: 0.666809590479516\n",
      "Среднее количество проектов среди работающих сотрудников: 3.786664333216661\n"
     ]
    }
   ],
   "source": [
    "emp_left = df[['promotion_last_5years', 'left']].query('left == 1 and promotion_last_5years == 1').count() / len(df) * 100 \n",
    "satisfied_avg_left = df[['satisfaction_level', 'left']].query('left == 1').mean()\n",
    "left_prj_mean_count = df[['number_project', 'left']].query('left == 1').mean()\n",
    "\n",
    "emp_wrk = df[['promotion_last_5years', 'left']].query('left == 0 and promotion_last_5years == 1').count() / len(df) * 100 \n",
    "satisfied_avg_wrk = df[['satisfaction_level', 'left']].query('left == 0').mean()\n",
    "wrk_prj_mean_count = df[['number_project', 'left']].query('left == 0').mean()\n",
    "\n",
    "print(f'Доля уволившихся сотрудников c повышением за последние 5 лет к общему числу сотрудников: {emp_left.promotion_last_5years} %')\n",
    "print(f'Средний уровень удовлетворенных среди уволившихся содрудников: {satisfied_avg_left.satisfaction_level}')\n",
    "print(f'Среднее количество проектов среди уволившихся сотрудников: {left_prj_mean_count.number_project}')\n",
    "print(f'Доля работающих сотрудников c повышением за последние 5 лет к общему числу сотрудников: {emp_wrk.promotion_last_5years} %')\n",
    "print(f'Средний уровень удовлетворенных среди работающих содрудников: {satisfied_avg_wrk.satisfaction_level}')\n",
    "print(f'Среднее количество проектов среди работающих сотрудников: {wrk_prj_mean_count.number_project}')"
   ]
  },
  {
   "cell_type": "markdown",
   "metadata": {},
   "source": [
    "<div class=\"alert alert-info\">\n",
    "9. Разделить данные на тестовую и обучающую выборки. Построить модель LDA, предсказывающую уволился ли сотрудник на основе имеющихся факторов (кроме department и salary). Оценить качество модели на тестовой выборки.\n",
    "</div>"
   ]
  },
  {
   "cell_type": "code",
   "execution_count": 15,
   "metadata": {},
   "outputs": [
    {
     "ename": "AttributeError",
     "evalue": "'function' object has no attribute 'scatter_matrix'",
     "output_type": "error",
     "traceback": [
      "\u001b[0;31m---------------------------------------------------------------------------\u001b[0m",
      "\u001b[0;31mAttributeError\u001b[0m                            Traceback (most recent call last)",
      "\u001b[0;32m<ipython-input-15-84a0ad202a45>\u001b[0m in \u001b[0;36m<module>\u001b[0;34m\u001b[0m\n\u001b[1;32m      1\u001b[0m \u001b[0mlda_model\u001b[0m \u001b[0;34m=\u001b[0m \u001b[0mpd\u001b[0m\u001b[0;34m.\u001b[0m\u001b[0mDataFrame\u001b[0m\u001b[0;34m(\u001b[0m\u001b[0;34m)\u001b[0m\u001b[0;34m\u001b[0m\u001b[0;34m\u001b[0m\u001b[0m\n\u001b[1;32m      2\u001b[0m \u001b[0mlda_model\u001b[0m \u001b[0;34m=\u001b[0m \u001b[0mdf\u001b[0m\u001b[0;34m.\u001b[0m\u001b[0mquery\u001b[0m\u001b[0;34m(\u001b[0m\u001b[0;34m'left == 1'\u001b[0m\u001b[0;34m)\u001b[0m\u001b[0;34m\u001b[0m\u001b[0;34m\u001b[0m\u001b[0m\n\u001b[0;32m----> 3\u001b[0;31m \u001b[0mplt\u001b[0m\u001b[0;34m.\u001b[0m\u001b[0mplotting\u001b[0m\u001b[0;34m.\u001b[0m\u001b[0mscatter_matrix\u001b[0m\u001b[0;34m(\u001b[0m\u001b[0mlda_model\u001b[0m\u001b[0;34m,\u001b[0m \u001b[0malpha\u001b[0m\u001b[0;34m=\u001b[0m\u001b[0;36m0.5\u001b[0m\u001b[0;34m)\u001b[0m\u001b[0;34m\u001b[0m\u001b[0;34m\u001b[0m\u001b[0m\n\u001b[0m\u001b[1;32m      4\u001b[0m \u001b[0mplt\u001b[0m\u001b[0;34m.\u001b[0m\u001b[0mshow\u001b[0m\u001b[0;34m(\u001b[0m\u001b[0;34m)\u001b[0m\u001b[0;34m\u001b[0m\u001b[0;34m\u001b[0m\u001b[0m\n",
      "\u001b[0;31mAttributeError\u001b[0m: 'function' object has no attribute 'scatter_matrix'"
     ]
    }
   ],
   "source": [
    "lda_model = pd.DataFrame()\n",
    "lda_model = df.query('left == 1') \n",
    "plt.plotting.scatter_matrix(lda_model, alpha=0.5)\n",
    "plt.show()"
   ]
  },
  {
   "cell_type": "code",
   "execution_count": null,
   "metadata": {},
   "outputs": [],
   "source": []
  }
 ],
 "metadata": {
  "kernelspec": {
   "display_name": "Python 3",
   "language": "python",
   "name": "python3"
  },
  "language_info": {
   "codemirror_mode": {
    "name": "ipython",
    "version": 3
   },
   "file_extension": ".py",
   "mimetype": "text/x-python",
   "name": "python",
   "nbconvert_exporter": "python",
   "pygments_lexer": "ipython3",
   "version": "3.8.5"
  }
 },
 "nbformat": 4,
 "nbformat_minor": 4
}
