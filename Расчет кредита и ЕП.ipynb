{
 "cells": [
  {
   "cell_type": "code",
   "execution_count": 1,
   "metadata": {},
   "outputs": [
    {
     "name": "stdout",
     "output_type": "stream",
     "text": [
      "    month  credit_remain  monthly_payment_base  monthly_payment_rate  \\\n",
      "0       1   7.550021e+06          42178.888889          37961.000000   \n",
      "0       2   7.507842e+06          42178.888889          37750.105556   \n",
      "0       3   7.465663e+06          42178.888889          37539.211111   \n",
      "0       4   7.423484e+06          42178.888889          37328.316667   \n",
      "0       5   7.381306e+06          42178.888889          37117.422222   \n",
      "..    ...            ...                   ...                   ...   \n",
      "0     176   1.687156e+05          42178.888889           1054.472222   \n",
      "0     177   1.265367e+05          42178.888889            843.577778   \n",
      "0     178   8.435778e+04          42178.888889            632.683333   \n",
      "0     179   4.217889e+04          42178.888889            421.788889   \n",
      "0     180  -1.577428e-08          42178.888889            210.894444   \n",
      "\n",
      "    monthly_payment_sum  \n",
      "0          80139.888889  \n",
      "0          79928.994444  \n",
      "0          79718.100000  \n",
      "0          79507.205556  \n",
      "0          79296.311111  \n",
      "..                  ...  \n",
      "0          43233.361111  \n",
      "0          43022.466667  \n",
      "0          42811.572222  \n",
      "0          42600.677778  \n",
      "0          42389.783333  \n",
      "\n",
      "[180 rows x 5 columns]\n",
      "Сумма выплат: 11027670.5\n",
      "Переплата: 3435470.5\n",
      "Эффективная процентная ставка: 49.07815\n",
      "Средний ежемесяный платеж: 61264.83611111112\n"
     ]
    },
    {
     "data": {
      "image/png": "[encoded data removed]",
      "text/plain": [
       "<Figure size 432x288 with 1 Axes>"
      ]
     },
     "metadata": {
      "needs_background": "light"
     },
     "output_type": "display_data"
    }
   ],
   "source": [
    "import pandas as pd\n",
    "import matplotlib.pyplot as plt\n",
    "\n",
    "credit = 7000000\n",
    "ensurence_rate = 8.46\n",
    "ensurence = credit / 100 * ensurence_rate\n",
    "credit_full = credit + ensurence\n",
    "term = 15*12\n",
    "rate = 6\n",
    "row = {}\n",
    "df = pd.DataFrame()\n",
    "\n",
    "monthly_payment_base = credit_full / term\n",
    "credit_remain = credit_full\n",
    "for i in range(term):\n",
    "    credit_remain -=  monthly_payment_base\n",
    "    monthly_payment_rate = (credit_full - monthly_payment_base * i) * (rate * (term - i) / 12 / 100)  / (term - i)\n",
    "    row = {'month': i + 1, 'credit_remain': credit_remain, 'monthly_payment_base': monthly_payment_base, 'monthly_payment_rate': monthly_payment_rate}\n",
    "    df = pd.concat([df, pd.DataFrame([row])])\n",
    "\n",
    "df['monthly_payment_sum'] = df['monthly_payment_base'] + df['monthly_payment_rate']\n",
    "print(df)\n",
    "monthly_payment_sum = df['monthly_payment_sum'].sum()\n",
    "print(f'Сумма выплат: {monthly_payment_sum}')\n",
    "overpayment = df['monthly_payment_sum'].sum() - credit_full\n",
    "print(f'Переплата: {overpayment}')\n",
    "effective_rate = (df['monthly_payment_sum'].sum() - credit_full) / credit * 100\n",
    "print(f'Эффективная процентная ставка: {effective_rate}')\n",
    "monthly_payment_mean = df['monthly_payment_sum'].mean()\n",
    "print(f'Средний ежемесяный платеж: {monthly_payment_mean}') \n",
    "\n",
    "plt.plot(df['month'], df['credit_remain'])\n",
    "plt.plot(df['month'], df['monthly_payment_sum'])\n",
    "plt.show()"
   ]
  },
  {
   "cell_type": "code",
   "execution_count": null,
   "metadata": {},
   "outputs": [],
   "source": []
  }
 ],
 "metadata": {
  "kernelspec": {
   "display_name": "Python 3",
   "language": "python",
   "name": "python3"
  },
  "language_info": {
   "codemirror_mode": {
    "name": "ipython",
    "version": 3
   },
   "file_extension": ".py",
   "mimetype": "text/x-python",
   "name": "python",
   "nbconvert_exporter": "python",
   "pygments_lexer": "ipython3",
   "version": "3.8.5"
  }
 },
 "nbformat": 4,
 "nbformat_minor": 4
}
